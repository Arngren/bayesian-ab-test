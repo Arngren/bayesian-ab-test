{
 "cells": [
  {
   "attachments": {},
   "cell_type": "markdown",
   "id": "4befee48",
   "metadata": {},
   "source": [
    "# Bayesian A/B-Testing"
   ]
  },
  {
   "cell_type": "code",
   "execution_count": null,
   "id": "21b13953",
   "metadata": {},
   "outputs": [],
   "source": [
    "# !which python\n",
    "# !pip install nbformat\n",
    "# !pip install kaleido\n",
    "\n",
    "# !makedir images"
   ]
  },
  {
   "cell_type": "code",
   "execution_count": null,
   "id": "08d1486d",
   "metadata": {},
   "outputs": [],
   "source": [
    "import sys\n",
    "sys.path.append('../')\n",
    "\n",
    "from typing import Dict, List, Any, Union\n",
    "\n",
    "import os\n",
    "import numpy as np\n",
    "import pandas as pd\n",
    "\n",
    "from tqdm import tqdm\n",
    "\n",
    "from scipy import stats\n",
    "from scipy.stats import beta, gamma\n",
    "\n",
    "# import util functions\n",
    "from utils.campaign import Campaign\n",
    "from utils.hypothesis_test import Hypothesis_AB_Test\n",
    "from utils.bayesian_test import Bayesian_AB_Test\n",
    "\n",
    "# import visualisation / plotting\n",
    "import matplotlib\n",
    "matplotlib.use(\"Agg\")\n",
    "import matplotlib.pyplot as plt\n",
    "import matplotlib.animation as manimation\n",
    "from matplotlib.colors import rgb2hex\n",
    "\n",
    "from utils.graph import visualisation # conda install -n python3 -c conda-forge colorlover\n",
    "import plotly\n",
    "import plotly.graph_objects as go\n",
    "# Init visualisation tool\n",
    "plot = visualisation(renderer=\"vscode\") # vscode | iframe for browsers\n",
    "\n",
    "from IPython.core.interactiveshell import InteractiveShell\n",
    "InteractiveShell.ast_node_interactivity = \"all\"\n",
    "pd.set_option('display.max_columns', None)\n",
    "pd.set_option('display.max_rows', 5000)\n",
    "pd.set_option('display.width', 10000)\n",
    "\n",
    "tqdm.pandas()"
   ]
  },
  {
   "cell_type": "code",
   "execution_count": null,
   "id": "dce38fa7",
   "metadata": {},
   "outputs": [],
   "source": []
  },
  {
   "attachments": {},
   "cell_type": "markdown",
   "id": "3d327c30",
   "metadata": {},
   "source": [
    "# Parameters"
   ]
  },
  {
   "cell_type": "code",
   "execution_count": null,
   "id": "4b42c6ef",
   "metadata": {},
   "outputs": [],
   "source": [
    "# Define Campaign Parameters\n",
    "# Click-Through-Rate\n",
    "CTR_A = 0.10\n",
    "CTR_B = 0.12\n",
    "# Cost-per-Mill average value\n",
    "CPM_MEAN_A = 11\n",
    "CPM_MEAN_B = 19\n",
    "\n",
    "# ---------------------------------------------------------\n",
    "# Campaign simulation pararmeters\n",
    "N_PERIODS = 2000+1\n",
    "N_IMPR_PER_PERIOD = 5\n",
    "SEED = 10 # 10 # both similar\n",
    "\n",
    "\n",
    "# ---------------------------------------------------------\n",
    "# For single evalution - number of impressons\n",
    "N_IMPR = 1000 # exact # of impressions according to the hypothesis test\n",
    "\n",
    "\n",
    "# Config for evaluation\n",
    "config ={'metrics':\n",
    "            {'ks': True, # calc. Kolmorogorov-Smirnov\n",
    "             'ws': True, # calc. Wasserstein\n",
    "             'jsd': False, # calc. Jensen-Shannon-Divergence\n",
    "             'n_samples': 1000} # number of samples\n",
    "         }\n",
    "\n",
    "# Plotting\n",
    "WIDTH_SAVE, HEIGHT_SAVE = 1200, 400\n",
    "\n",
    "# Images and videos\n",
    "DO_MAKE_VIDEOS = True\n",
    "\n",
    "# create image folder, if not exists\n",
    "IMAGE_FOLDER = \"../../images\"\n",
    "if not os.path.exists(IMAGE_FOLDER):\n",
    "    os.makedirs(IMAGE_FOLDER)\n",
    "\n",
    "VIDEO_FOLDER = \"../../video\"\n",
    "if not os.path.exists(VIDEO_FOLDER):\n",
    "    os.makedirs(IMAGE_FOLDER)"
   ]
  },
  {
   "cell_type": "code",
   "execution_count": null,
   "id": "9f98087f",
   "metadata": {},
   "outputs": [],
   "source": []
  },
  {
   "attachments": {},
   "cell_type": "markdown",
   "id": "f1813e2b",
   "metadata": {},
   "source": [
    "# Statistics for the single evaluation"
   ]
  },
  {
   "cell_type": "code",
   "execution_count": null,
   "id": "8fe1bc57",
   "metadata": {},
   "outputs": [],
   "source": []
  },
  {
   "cell_type": "code",
   "execution_count": null,
   "id": "e2bc2864",
   "metadata": {},
   "outputs": [],
   "source": [
    "# Calc. number of click after N_IMPR impressions\n",
    "n_clicks_a = int(CTR_A*N_IMPR)\n",
    "n_clicks_b = int(CTR_B*N_IMPR)\n",
    "\n",
    "# Calc. cost after N_IMPR impressions\n",
    "cost_a = N_IMPR*CPM_MEAN_A/1000\n",
    "cost_b = N_IMPR*CPM_MEAN_B/1000\n",
    "\n",
    "print(f'Observations:')\n",
    "print(f'Impressions: {N_IMPR} - clicks A/B: {n_clicks_a} / {n_clicks_b} - cost A/B: {cost_a} / {cost_b}\\n')\n",
    "\n",
    "print(f'Average statistics (without uncertainty):')\n",
    "print(f'Click-Through-Rate (CTR) A/B: {100*n_clicks_a/N_IMPR:.1f}% / {100*n_clicks_b/N_IMPR:.1f}%')\n",
    "print(f'Cost-per-Click (CpC) A/B: {CPM_MEAN_A/n_clicks_a:.3f} / {CPM_MEAN_B/n_clicks_b:.3f}\\n')"
   ]
  },
  {
   "attachments": {},
   "cell_type": "markdown",
   "id": "379e799d",
   "metadata": {},
   "source": [
    "<hr>"
   ]
  },
  {
   "attachments": {},
   "cell_type": "markdown",
   "id": "c0fad043",
   "metadata": {},
   "source": [
    "# Hypothesis testing - single evaluation"
   ]
  },
  {
   "cell_type": "code",
   "execution_count": null,
   "id": "1eca9a76",
   "metadata": {},
   "outputs": [],
   "source": [
    "hypo = Hypothesis_AB_Test()"
   ]
  },
  {
   "cell_type": "code",
   "execution_count": null,
   "id": "5005a1b7",
   "metadata": {},
   "outputs": [],
   "source": [
    "n_samples_required = hypo.calc_sample_size(CTR_A, CTR_B)\n",
    "print(f'Required sample size: {n_samples_required}')\n",
    "\n",
    "# Chi-squared test\n",
    "chi2, p, dof, ex = hypo.chi2_test( n_clicks_a, N_IMPR-n_clicks_a, n_clicks_b, N_IMPR-n_clicks_b )\n",
    "print(f'chi2: {chi2:.3f}')\n",
    "print(f'p-value: {p:.3f}')"
   ]
  },
  {
   "attachments": {},
   "cell_type": "markdown",
   "id": "5b9e6c98",
   "metadata": {},
   "source": [
    "<hr>"
   ]
  },
  {
   "attachments": {},
   "cell_type": "markdown",
   "id": "6514ae65",
   "metadata": {},
   "source": [
    "# Bayesian Testing - single evaluation"
   ]
  },
  {
   "cell_type": "code",
   "execution_count": null,
   "id": "e4d5ff7f",
   "metadata": {},
   "outputs": [],
   "source": [
    "bayes = Bayesian_AB_Test()"
   ]
  },
  {
   "attachments": {},
   "cell_type": "markdown",
   "id": "1d7d55b8",
   "metadata": {},
   "source": [
    "### Probabilistic & Loss Analysis - on static data"
   ]
  },
  {
   "cell_type": "code",
   "execution_count": null,
   "id": "5e27cb3f",
   "metadata": {},
   "outputs": [],
   "source": [
    "# Click-Through-Rate (CTR) - Beta distribution\n",
    "# calc. parameters\n",
    "alpha_a, beta_a = n_clicks_a+1, N_IMPR-n_clicks_a\n",
    "alpha_b, beta_b = n_clicks_b+1, N_IMPR-n_clicks_b\n",
    "print(f\"alpha_A: {alpha_a} - beta_a: {beta_a} - alpha_b: {alpha_b} - beta_b: {beta_b}\")\n",
    "\n",
    "# Calc. probabilities and losses\n",
    "print(f'Performance metric: Click-Through-Rate (CTR)')\n",
    "P, (loss_a, loss_b) = bayes.p_ab_loss( [beta(alpha_a,beta_a), beta(alpha_b,beta_b)], thr=1, n_samples=10000 )\n",
    "print(f'Probability of winner A/B, p(ratio>1) = {P[0]*100:.1f}% / {P[1]*100:.1f}% (sampled)')\n",
    "# P = bayes.p_ba_beta(alpha_a, beta_a, alpha_b, beta_b)\n",
    "# print(f'Probability of winner A/B, p(ratio>1) = {(1-P)*100:.1f}% / {P*100:.1f}% (analytically)')\n",
    "# loss_a, loss_b = bayes.loss(beta(alpha_a,beta_a), beta(alpha_b, beta_b), f_min=0, f_max=1, N=100)\n",
    "# loss_a, loss_b = bayes.loss(beta(alpha_a,beta_a), beta(alpha_b, beta_b), N=100)\n",
    "print(f'Loss CTR A/B: {loss_a:.2f} / {loss_b:.2f} (integration)')\n",
    "# loss_a, loss_b = bayes.loss_beta(alpha_a, beta_a, alpha_b, beta_b)\n",
    "# print(f'Loss CTR A/B: {100*loss_a:.2f} / {100*loss_b:.2f} (analytically)\\n')\n",
    "\n",
    "# Cost-per-Click (CpC) - Gamma distribution\n",
    "# calc. parameters\n",
    "cost_a, scale_a = N_IMPR*CPM_MEAN_A/1000, 1/n_clicks_a\n",
    "cost_b, scale_b = N_IMPR*CPM_MEAN_B/1000, 1/n_clicks_b\n",
    "a_a, a_b = cost_a+1, cost_b+1\n",
    "# Calc. probabilities and losses\n",
    "print(f'Performance metric: Cost-per-Click (CpC)')\n",
    "P, (loss_a, loss_b) = bayes.p_ab_loss( [gamma(a=a_a, scale=scale_a), gamma(a=a_b, scale=scale_b)], best='min', thr=1, n_samples=10000 )\n",
    "print(f'Probability of cheapest click (A/B), p(ratio>1) = {P[0]*100:.1f}% / {P[1]*100:.1f}% (sampled)')\n",
    "# P = bayes.p_ba( rv_a=gamma(a=a_a, scale=scale_a), rv_b=gamma(a=a_b, scale=scale_b), n_samples=10000 )\n",
    "# print(f'Probability of cheapest click (A/B), p(ratio>1) = {P*100:.1f}% / {(1-P)*100:.1f}% (sampled) - correct')\n",
    "# loss_b, loss_a = bayes.loss(gamma(a=a_a, scale=scale_a), gamma(a=a_b, scale=scale_b))\n",
    "print(f'Loss CpC A/B: {loss_a:.2f} / {loss_b:.2f}')"
   ]
  },
  {
   "cell_type": "code",
   "execution_count": null,
   "id": "7813d1cc",
   "metadata": {},
   "outputs": [],
   "source": []
  },
  {
   "attachments": {},
   "cell_type": "markdown",
   "id": "f23c28b9",
   "metadata": {},
   "source": [
    "## Bayesian Metrics"
   ]
  },
  {
   "attachments": {},
   "cell_type": "markdown",
   "id": "c15f09ef",
   "metadata": {},
   "source": [
    "### Probability of winner - Click-Through-Rate (CTR)"
   ]
  },
  {
   "cell_type": "code",
   "execution_count": null,
   "id": "f5a27251",
   "metadata": {},
   "outputs": [],
   "source": [
    "# plot CTR Beta distributions\n",
    "# scan lift range\n",
    "thr = 1.0\n",
    "n_samples = 1_000_000\n",
    "rv_a, rv_b = beta(alpha_a, beta_a), beta(alpha_b, beta_b)\n",
    "\n",
    "samples_a = rv_a.rvs(size=n_samples)\n",
    "samples_b = rv_b.rvs(size=n_samples)\n",
    "ratio = samples_b / samples_a\n",
    "hist, bins = np.histogram(ratio, bins=1000)\n",
    "id1, id2 = bins<=thr, bins>thr\n",
    "\n",
    "p_ratio_A = np.sum(hist[id1[:-1]]) / n_samples\n",
    "p_ratio_B = np.sum(hist[id2[:-1]]) / n_samples\n",
    "print(f'Probability of A as winner, p(ratio>1) = {p_ratio_A*100:.1f}%')\n",
    "print(f'Probability of B as winner, p(ratio>1) = {p_ratio_B*100:.1f}%')\n",
    "\n",
    "# loss calculation\n",
    "P, (loss_a, loss_b) = bayes.p_ab_loss(rvs=[rv_a, rv_b], n_samples=10_000)\n",
    "print(f'P CTR A/B: {100*P[0]:.2f}% / {100*P[1]:.2f}%')\n",
    "print(f'Loss CTR A/B: {loss_a:.2f} / {loss_b:.2f}')\n",
    "\n",
    "# ---------------------------------------------------------------------------------------------\n",
    "x2 = np.linspace(0, 0.3, 1001)\n",
    "p_data = [plot.plot(x=x2, y=beta.pdf(x2, alpha_a, beta_a), color=0, opacity=0.7, name='A', showlegend=True),\n",
    "          plot.plot(x=x2, y=beta.pdf(x2, alpha_b, beta_b), color=1, opacity=0.7, name='B', showlegend=True)]\n",
    "layout = plot.layout(title=f'', x_label='CTR', y_label='p', theme='dark', width=1200, height=400)\n",
    "fig = go.Figure(data=p_data, layout=layout).show()\n",
    "\n",
    "p_data = [plot.plot(x=bins[id1], y=hist[id1[:-1]]/sum(hist), color=0, opacity=0.7, name='A', showlegend=True),\n",
    "          plot.plot(x=bins[id2], y=hist[id2[:-1]]/sum(hist), color=1, opacity=0.7, name='B', showlegend=True) ]\n",
    "layout = plot.layout(title=\"\", x_label='lift ratio', y_label='p', theme='dark', width=1200, height=400)\n",
    "fig = go.Figure(data=p_data, layout=layout).show()\n",
    "\n",
    "p_data = [ plot.plot(x=bins[id1], y=1-hist.cumsum()[id1[:-1]]/sum(hist), color=0, opacity=0.7, name='A', showlegend=True),\n",
    "           plot.plot(x=bins[id2], y=1-hist.cumsum()[id2[:-1]]/sum(hist), color=1, opacity=0.7, name='B', showlegend=True) ]\n",
    "layout = plot.layout(title=\"\", x_label='lift ratio', y_label='p', theme='dark', width=1200, height=400)\n",
    "fig = go.Figure(data=p_data, layout=layout).show()"
   ]
  },
  {
   "cell_type": "code",
   "execution_count": null,
   "id": "6b1b597a",
   "metadata": {},
   "outputs": [],
   "source": []
  },
  {
   "attachments": {},
   "cell_type": "markdown",
   "id": "dc27e802",
   "metadata": {},
   "source": [
    "### Probability of winner - Cost-per-Click (CpC)"
   ]
  },
  {
   "cell_type": "code",
   "execution_count": null,
   "id": "2cb608cd",
   "metadata": {},
   "outputs": [],
   "source": [
    "# plot CpC Gammz distributions\n",
    "# scan lift range\n",
    "thr = 1.0\n",
    "n_samples = 1_000_000\n",
    "\n",
    "rv_a, rv_b = gamma(a=a_a, scale=scale_a), gamma(a=a_b, scale=scale_b)\n",
    "samples_a = rv_a.rvs(size=n_samples)\n",
    "samples_b = rv_b.rvs(size=n_samples)\n",
    "\n",
    "ratio = samples_a / samples_b # note: inverse ratio\n",
    "hist, bins = np.histogram(ratio, bins=1000)\n",
    "id1, id2 = bins<=thr, bins>thr\n",
    "\n",
    "p_ratio_A = np.sum(hist[id1[:-1]]) / n_samples\n",
    "p_ratio_B = np.sum(hist[id2[:-1]]) / n_samples\n",
    "print(f'Probability of A as winner, p(ratio>1) = {p_ratio_A*100:.1f}%')\n",
    "print(f'Probability of B as winner, p(ratio>1) = {p_ratio_B*100:.1f}%')\n",
    "\n",
    "# loss calculation\n",
    "P, (loss_a, loss_b) = bayes.p_ab_loss(rvs=[rv_a, rv_b], best='min', n_samples=10_000)\n",
    "print(f'P CpC A/B: {100*P[0]:.2f}% / {100*P[1]:.2f}%')\n",
    "print(f'Loss CpC A/B: {loss_a:.2f} / {loss_b:.2f}')\n",
    "\n",
    "# ---------------------------------------------------------------------------------------------\n",
    "x2 = np.linspace(0, 1, 1001)\n",
    "p_data = [plot.plot(x=x2, y=gamma.pdf(x2, a=a_a, scale=scale_a), color=0, opacity=0.7, name='A', showlegend=True),\n",
    "          plot.plot(x=x2, y=gamma.pdf(x2, a=a_b, scale=scale_b), color=1, opacity=0.7, name='B', showlegend=True)]\n",
    "layout = plot.layout(title=f'', x_label='CpC', y_label='p', theme='dark', width=1200, height=400)\n",
    "fig = go.Figure(data=p_data, layout=layout).show()\n",
    "\n",
    "p_data = [plot.plot(x=bins[id1], y=hist[id1[:-1]]/sum(hist), color=0, opacity=0.7, name='A', showlegend=True),\n",
    "          plot.plot(x=bins[id2], y=hist[id2[:-1]]/sum(hist), color=1, opacity=0.7, name='B', showlegend=True)]\n",
    "layout = plot.layout(title=\"\", x_label='price ratio', y_label='p', theme='dark', width=1200, height=400)\n",
    "fig = go.Figure(data=p_data, layout=layout).show()\n",
    "\n",
    "p_data = [plot.plot(x=bins[id1], y=hist.cumsum()[id1[:-1]]/sum(hist), color=0, opacity=0.7, name='A', showlegend=False),\n",
    "          plot.plot(x=bins[id2], y=hist.cumsum()[id2[:-1]]/sum(hist), color=1, opacity=0.7, name='B', showlegend=False)]\n",
    "layout = plot.layout(title=\"\", x_label='price ratio', y_label='p', theme='dark', width=1200, height=400)\n",
    "layout['xaxis']['range'] = [0.2, 4]\n",
    "fig = go.Figure(data=p_data, layout=layout).show()"
   ]
  },
  {
   "cell_type": "code",
   "execution_count": null,
   "id": "b8e58756",
   "metadata": {},
   "outputs": [],
   "source": []
  },
  {
   "cell_type": "markdown",
   "id": "281c1e5c",
   "metadata": {},
   "source": [
    "<hr>"
   ]
  },
  {
   "cell_type": "markdown",
   "id": "9010b2e0",
   "metadata": {},
   "source": [
    "# Power Analysis\n",
    "\n",
    "Calculate the required number of impressions before a certain p-value or probability of a winer is achieved.\n",
    "This always done for hypothesis testing, as we can only declare significance if the sufficient number of samples is observded.\n",
    "\n",
    "Comparing to Bayesian testing, it becoems quite clear how the number of samples required is much lower for Bayesian testing"
   ]
  },
  {
   "cell_type": "code",
   "execution_count": null,
   "id": "090e33f0",
   "metadata": {},
   "outputs": [],
   "source": [
    "# define\n",
    "impr_list = np.arange(1, 100_000, 200)\n",
    "n_impr = len(impr_list)\n",
    "lift_list = [10, 5, 3, 2]\n",
    "CTR_A = 0.10\n",
    "\n",
    "PA = {'n_samples_required': {'ctr':{}},\n",
    "      'hypo':{'ctr':{}},\n",
    "      'bayes':{'ctr':{}}}\n",
    "for lift in lift_list:\n",
    "    PA['hypo']['ctr'][lift] = []\n",
    "    PA['bayes']['ctr'][lift] = []\n",
    "\n",
    "    # calc. CTR_B\n",
    "    CTR_B = CTR_A * (1+lift/100)\n",
    "\n",
    "    # hypothesis testing - number of samples required\n",
    "    PA['n_samples_required']['ctr'][lift] = hypo.calc_sample_size(CTR_A, CTR_B)\n",
    "\n",
    "    for impr in impr_list:\n",
    "        # clicks\n",
    "        clicks_a = int(impr * CTR_A)\n",
    "        clicks_b = int(impr * CTR_B)\n",
    "\n",
    "        # hypothesis testing\n",
    "        PA['hypo']['ctr'][lift] += [ 1 - hypo.chi2_test(clicks_a, impr, clicks_b, impr)[1] ]\n",
    "\n",
    "        # calc. prob. of B > A\n",
    "        P, _ = bayes.p_ab_loss( [beta(clicks_a+1, impr-clicks_a+1), beta(clicks_b+1, impr-clicks_b+1)], best='max', n_samples=10000 )\n",
    "        PA['bayes']['ctr'][lift] += [ P[1] ]\n",
    "\n",
    "        # Power Analysis for Bayesian Test\n",
    "        samples_A = beta(clicks_a+1, impr-clicks_a+1).rvs(size=1000)\n",
    "        samples_B = beta(clicks_b+1, impr-clicks_b+1).rvs(size=1000)\n",
    "        P_ = np.sum(samples_B > samples_A)\n",
    "\n",
    "PA['n_samples_required']"
   ]
  },
  {
   "cell_type": "code",
   "execution_count": null,
   "id": "bebecb7b",
   "metadata": {},
   "outputs": [],
   "source": [
    "METRIC = 'ctr'\n",
    "\n",
    "# plot\n",
    "p_data = []\n",
    "for i, (k, v) in enumerate( PA['hypo'][METRIC].items() ):\n",
    "    p_data += [plot.plot(x=impr_list, y=v, color=i, opacity=0.7, name=f'Lift: {k}%', showlegend=True)]\n",
    "p_data += [ plot.plot(x=impr_list, y=n_impr*[0.95], color=0, opacity=1, fill=None, linewidth=3, name='>0.95', showlegend=True) ]\n",
    "layout = plot.layout(title=f'Decision Analysis for {METRIC} = {CTR_A*100}%', x_label='impressions [#]', y_label='1 - p-value', theme='dark', width=800, height=500) # width=1200, height=400)\n",
    "layout['yaxis']['range'] = [0, 1]\n",
    "fig = go.Figure(data=p_data, layout=layout).show()\n",
    "\n",
    "# plot\n",
    "p_data = []\n",
    "for i, (k, v) in enumerate( PA['bayes'][METRIC].items() ):\n",
    "    p_data += [plot.plot(x=impr_list, y=v, color=i, opacity=0.7, name=f'Lift: {k}%', showlegend=True)]\n",
    "p_data += [ plot.plot(x=impr_list, y=n_impr*[0.95], color=0, opacity=1, fill=None, linewidth=3, name='>0.95', showlegend=True) ]    \n",
    "layout = plot.layout(title=f'Decision Analysis for {METRIC} = {CTR_A*100}%', x_label='impressions [#]', y_label='winner probability', theme='dark', width=800, height=500) # width=1200, height=400)\n",
    "layout['yaxis']['range'] = [0.5, 1]\n",
    "fig = go.Figure(data=p_data, layout=layout).show()"
   ]
  },
  {
   "cell_type": "code",
   "execution_count": null,
   "id": "e039f33d",
   "metadata": {},
   "outputs": [],
   "source": []
  },
  {
   "attachments": {},
   "cell_type": "markdown",
   "id": "aebc2fae",
   "metadata": {},
   "source": [
    "<hr>"
   ]
  },
  {
   "attachments": {},
   "cell_type": "markdown",
   "id": "f995a2e0",
   "metadata": {},
   "source": [
    "# Simulate campaign"
   ]
  },
  {
   "attachments": {},
   "cell_type": "markdown",
   "id": "ae6b0c31",
   "metadata": {},
   "source": [
    "### Create synth. campaign data"
   ]
  },
  {
   "cell_type": "code",
   "execution_count": null,
   "id": "431efc74",
   "metadata": {},
   "outputs": [],
   "source": [
    "# Campaign parameters\n",
    "params = {'A': {'ctr': CTR_A, 'cpm':CPM_MEAN_A}, 'B': {'ctr': CTR_B, 'cpm':CPM_MEAN_B}, 'n_impr_per_period':N_IMPR_PER_PERIOD}\n",
    "campaign = Campaign(params, random_seed=SEED)\n",
    "df = campaign.create(n_periods=N_PERIODS)\n",
    "df = campaign.agg_stats(df)\n",
    "\n",
    "# total amount of impressions for A1, A2, B1, B2 and A & B\n",
    "n_impressions_a1, n_impressions_a2 = df.n_impr_a1.sum(), df.n_impr_a2.sum()\n",
    "n_impressions_b1, n_impressions_b2 = df.n_impr_b1.sum(), df.n_impr_b2.sum()\n",
    "n_impressions_a, n_impressions_b = df.n_impr_a.sum(), df.n_impr_b.sum()\n",
    "\n",
    "df.head(5)\n",
    "print(f'Impressions')\n",
    "print(f'A (total): {n_impressions_a} - A1/A2: {n_impressions_a1}/{n_impressions_a2}')\n",
    "print(f'B (total): {n_impressions_b} - B1/B2: {n_impressions_b1}/{n_impressions_b2}')"
   ]
  },
  {
   "attachments": {},
   "cell_type": "markdown",
   "id": "c87ea7ba",
   "metadata": {},
   "source": [
    "#### Visualise campaign over time"
   ]
  },
  {
   "cell_type": "code",
   "execution_count": null,
   "id": "980b7e9a",
   "metadata": {},
   "outputs": [],
   "source": [
    "# Impressions / Clicks over time\n",
    "p_data = [ plot.plot(x=df.t, y=df.acc_impr_a1, color=0, opacity=0.2, name='impr. A', showlegend=True),\n",
    "           plot.plot(x=df.t, y=df.acc_clicks_a1, color=0, opacity=0.7, name='clicks A', showlegend=True),\n",
    "           plot.plot(x=df.t, y=df.acc_impr_b1, color=1, opacity=0.2, name='impr. B', showlegend=True),\n",
    "           plot.plot(x=df.t, y=df.acc_clicks_b1, color=1, opacity=0.7, name='clicks B', showlegend=True),\n",
    "           ]\n",
    "layout = plot.layout(title=f'Observations - impr. & clicks', x_label='time', y_label='#', theme='dark', width=1200, height=400)\n",
    "fig = go.Figure(data=p_data, layout=layout).show()\n",
    "layout['width'], layout['height'] = WIDTH_SAVE, HEIGHT_SAVE\n",
    "go.Figure(data=p_data, layout=layout).write_image(f'{IMAGE_FOLDER}/impr_clicks.png')\n",
    "\n",
    "# CTR / CpC over time\n",
    "p_data = [ plot.plot(x=df.t, y=df.acc_clicks_a/df.acc_impr_a, color=0, opacity=0.5, name='CTR A', showlegend=True),\n",
    "           plot.plot(x=df.t, y=df.acc_clicks_b/df.acc_impr_b, color=1, opacity=0.5, name='CTR B', showlegend=True),\n",
    "           plot.plot(x=df.t, y=df.acc_cost_a/df.acc_clicks_a, color=0, opacity=0.5, name='CpC A', showlegend=True),\n",
    "           plot.plot(x=df.t, y=df.acc_cost_b/df.acc_clicks_b, color=1, opacity=0.5, name='CpC B', showlegend=True),\n",
    "           ]\n",
    "layout = plot.layout(title=f'Performance - CTR & CpC', x_label='time', y_label='', theme='dark', width=1200, height=400)\n",
    "fig = go.Figure(data=p_data, layout=layout).show()\n",
    "layout['width'], layout['height'] = WIDTH_SAVE, HEIGHT_SAVE\n",
    "go.Figure(data=p_data, layout=layout).write_image(f'{IMAGE_FOLDER}/performance.png')\n"
   ]
  },
  {
   "attachments": {},
   "cell_type": "markdown",
   "id": "a391bd2a",
   "metadata": {},
   "source": [
    "### Calc. AB test stats on synth. campaign data"
   ]
  },
  {
   "cell_type": "code",
   "execution_count": null,
   "id": "3b54c5b0",
   "metadata": {},
   "outputs": [],
   "source": [
    "# HYPO\n",
    "df = hypo.transform(df)\n",
    "\n",
    "# BAYES\n",
    "df = bayes.transform(df, config)"
   ]
  },
  {
   "cell_type": "code",
   "execution_count": null,
   "id": "33cc2f0f",
   "metadata": {},
   "outputs": [],
   "source": [
    "df.head(10)"
   ]
  },
  {
   "attachments": {},
   "cell_type": "markdown",
   "id": "9ef55fe9",
   "metadata": {},
   "source": [
    "## Visualise"
   ]
  },
  {
   "attachments": {},
   "cell_type": "markdown",
   "id": "bf3e0499",
   "metadata": {},
   "source": [
    "#### Analyse specific time period"
   ]
  },
  {
   "cell_type": "code",
   "execution_count": null,
   "id": "386046a3",
   "metadata": {},
   "outputs": [],
   "source": [
    "# Choose specific time period to look at\n",
    "# T = 950\n",
    "T = 2000\n",
    "\n",
    "# Extract dataframe (row) for that time\n",
    "df_T = df[df.t==T]\n",
    "df_T"
   ]
  },
  {
   "cell_type": "code",
   "execution_count": null,
   "id": "a0fa5626",
   "metadata": {},
   "outputs": [],
   "source": [
    "# Click-Through-Rate - Beta distribution\n",
    "print( f'Beta distributions at T:{T} - Impr A: {df_T.acc_impr_a1.values[0]} / {df_T.acc_impr_a2.values[0]} - Impr B: {df_T.acc_impr_b1.values[0]} / {df_T.acc_impr_b2.values[0]}' )\n",
    "print( f'- Clicks A: {df_T.acc_clicks_a1.values[0]} / {df_T.acc_clicks_a2.values[0]} - Clicks B: {df_T.acc_clicks_b1.values[0]} / {df_T.acc_clicks_b2.values[0]}' )\n",
    "print( f'- Cost A: {df_T.acc_cost_a1.values[0]:.3f} / {df_T.acc_cost_a2.values[0]:.3f} - Cost B: {df_T.acc_cost_b1.values[0]:.3f} / {df_T.acc_cost_b2.values[0]:.3f}' )\n",
    "\n",
    "x = np.linspace(0.05, 0.15, 1000)\n",
    "p_data = [plot.plot(x=x, y=beta.pdf(x, df_T.alpha_a1, df_T.beta_a1), color=0, opacity=0.7, name='A1', showlegend=True),\n",
    "          plot.plot(x=x, y=beta.pdf(x, df_T.alpha_a2, df_T.beta_a2), color=0, opacity=0.7, name='A2', showlegend=True),\n",
    "          plot.plot(x=x, y=beta.pdf(x, df_T.alpha_b1, df_T.beta_b1), color=1, opacity=0.7, name='B1', showlegend=True),\n",
    "          plot.plot(x=x, y=beta.pdf(x, df_T.alpha_b2, df_T.beta_b2), color=1, opacity=0.7, name='B2', showlegend=True)]\n",
    "layout = plot.layout(title=f'Beta distributions at T:{T}', x_label='Click-Through-Rate', y_label='p', theme='dark', width=1200, height=400)\n",
    "fig = go.Figure(data=p_data, layout=layout)\n",
    "fig.show()\n",
    "\n",
    "print( f'Beta distributions at T:{T} - Impr A:{df_T.acc_impr_a.values[0]} - Impr B:{df_T.acc_impr_b.values[0]}' )\n",
    "p_data = [plot.plot(x=x, y=beta.pdf(x, df_T.alpha_a, df_T.beta_a), color=0, opacity=0.7, name='A', showlegend=True),\n",
    "          plot.plot(x=x, y=beta.pdf(x, df_T.alpha_b, df_T.beta_b), color=1, opacity=0.7, name='B', showlegend=True)]\n",
    "layout = plot.layout(title=f'Beta distributions at T:{T}', x_label='Click-Through-Rate', y_label='p', theme='dark', width=1200, height=400)\n",
    "fig = go.Figure(data=p_data, layout=layout).show()\n",
    "\n",
    "# Cost-per-Click - Gamma distributions\n",
    "print( f'Beta distributions at T:{T} - Impr A1:{df_T.acc_impr_a1.values[0]} - Impr A1:{df_T.acc_impr_a2.values[0]} - Impr B1:{df_T.acc_impr_b1.values[0]} - Impr B2:{df_T.acc_impr_b2.values[0]}' )\n",
    "x = np.linspace(0, 0.3, 1000)\n",
    "p_data = [plot.plot(x=x, y=gamma.pdf(x, a=df_T.a_a1, scale=df_T.scale_a1), color=0, opacity=0.7, name='A1', showlegend=True),\n",
    "          plot.plot(x=x, y=gamma.pdf(x, a=df_T.a_a2, scale=df_T.scale_a2), color=0, opacity=0.7, name='A2', showlegend=True),\n",
    "          plot.plot(x=x, y=gamma.pdf(x, a=df_T.a_b1, scale=df_T.scale_b1), color=1, opacity=0.7, name='B1', showlegend=True),\n",
    "          plot.plot(x=x, y=gamma.pdf(x, a=df_T.a_b2, scale=df_T.scale_b2), color=1, opacity=0.7, name='B2', showlegend=True)]\n",
    "layout = plot.layout(title=f'Gamma distributions at T:{T} - Impr A:{df_T.acc_impr_a1.values[0]} - Impr B:{df_T.acc_impr_a2.values[0]}', x_label='Cost-per-Click', y_label='p', theme='dark', width=1200, height=400)\n",
    "fig = go.Figure(data=p_data, layout=layout)\n",
    "fig.show()\n",
    "\n",
    "p_data = [plot.plot(x=x, y=gamma.pdf(x, a=df_T.a_a, scale=df_T.scale_a), color=0, opacity=0.7, name='A', showlegend=True),\n",
    "          plot.plot(x=x, y=gamma.pdf(x, a=df_T.a_b, scale=df_T.scale_b), color=1, opacity=0.7, name='B', showlegend=True)]\n",
    "layout = plot.layout(title=f'Gamma distributions at T:{T} - Cost A:{df_T.acc_cost_a.values[0]:.3f} - Cost B:{df_T.acc_cost_b.values[0]:.3f}', x_label='Cost-per-Click', y_label='p', theme='dark', width=1200, height=400)\n",
    "fig = go.Figure(data=p_data, layout=layout).show()"
   ]
  },
  {
   "cell_type": "code",
   "execution_count": null,
   "id": "6920abf6",
   "metadata": {},
   "outputs": [],
   "source": []
  },
  {
   "attachments": {},
   "cell_type": "markdown",
   "id": "136ac25b",
   "metadata": {},
   "source": [
    "<hr>"
   ]
  },
  {
   "attachments": {},
   "cell_type": "markdown",
   "id": "be7bfc80",
   "metadata": {},
   "source": [
    "# DECISION TIME"
   ]
  },
  {
   "cell_type": "code",
   "execution_count": null,
   "id": "30c6651e",
   "metadata": {},
   "outputs": [],
   "source": [
    "# Select last event to evaluate \n",
    "# T = len(df)-2\n",
    "T = 1000\n",
    "\n",
    "df_T = df[df.t==T]\n",
    "df_T"
   ]
  },
  {
   "cell_type": "code",
   "execution_count": null,
   "id": "aa2b51c6",
   "metadata": {},
   "outputs": [],
   "source": [
    "# Analysis\n",
    "print(f'A: Impr: {df_T.acc_impr_a.values[0]} - Clicks: {df_T.acc_clicks_a.values[0]}')\n",
    "print(f'B: Impr: {df_T.acc_impr_b.values[0]} - Clicks: {df_T.acc_clicks_b.values[0]}')"
   ]
  },
  {
   "attachments": {},
   "cell_type": "markdown",
   "id": "0c9da60d",
   "metadata": {},
   "source": [
    "## A/A test"
   ]
  },
  {
   "cell_type": "code",
   "execution_count": null,
   "id": "3fb4fa2d",
   "metadata": {},
   "outputs": [],
   "source": [
    "# Same/Same statistical test\n",
    "print(f'A/A TEST - CTR')\n",
    "print(f'AA: chi2: {df_T.chi2_A1A2_ctr.values[0]:.3f} - p-value: {100*df_T.pvalue_A1A2_ctr.values[0]:.1f}%', end='')\n",
    "print(f' - ks: {df_T.P_A1A2_b_ks.values[0]:.3f}', end='') if config['metrics']['ks'] else None\n",
    "print(f' - ws: {df_T.P_A1A2_b_ws.values[0]:.3f}', end='') if config['metrics']['ws'] else None\n",
    "print('')\n",
    "print(f'BB: chi2: {df_T.chi2_B1B2_ctr.values[0]:.3f} - p-value: {100*df_T.pvalue_B1B2_ctr.values[0]:.1f}%', end='')\n",
    "print(f' - ks: {df_T.P_B1B2_b_ks.values[0]:.3f}', end='') if config['metrics']['ks'] else None\n",
    "print(f' - ws: {df_T.P_B1B2_b_ws.values[0]:.3f}', end='') if config['metrics']['ws'] else None\n",
    "print(f'\\n')\n",
    "\n",
    "print(f'A/A TEST - CpC')\n",
    "print(f'AA: chi2: {df_T.chi2_A1A2_cpc.values[0]:.3f} - p-value: {100*df_T.pvalue_A1A2_cpc.values[0]:.1f}%', end='')\n",
    "print(f' - ks: {df_T.P_A1A2_g_ks.values[0]:.3f}') if config['metrics']['ks'] else None\n",
    "print(f' - ws: {df_T.P_A1A2_g_ws.values[0]:.3f}') if config['metrics']['ws'] else None\n",
    "print(f'BB: chi2: {df_T.chi2_B1B2_cpc.values[0]:.3f} - p-value: {100*df_T.pvalue_B1B2_cpc.values[0]:.1f}%', end='')\n",
    "print(f' - ks: {df_T.P_B1B2_g_ks.values[0]:.3f}') if config['metrics']['ks'] else None\n",
    "print(f' - ws: {df_T.P_B1B2_g_ws.values[0]:.3f}') if config['metrics']['ws'] else None"
   ]
  },
  {
   "attachments": {},
   "cell_type": "markdown",
   "id": "0716aafa",
   "metadata": {},
   "source": [
    "#### Hypothesis testing - Chi2-test"
   ]
  },
  {
   "cell_type": "code",
   "execution_count": null,
   "id": "faa63b47",
   "metadata": {},
   "outputs": [],
   "source": [
    "# CHI2-Test - CTR\n",
    "p_data = [ plot.plot(x=df.acc_impr_a, y=df.pvalue_A1A2_ctr, color=0, opacity=0.7, name='p-value A1=A2', showlegend=True),\n",
    "           plot.plot(x=df.acc_impr_b, y=df.pvalue_B1B2_ctr, color=1, opacity=0.7, name='p-value B1=B2', showlegend=True),\n",
    "           plot.plot(x=df.acc_impr_b, y=df.pvalue_ctr, color=3, opacity=0.7, name='p-value A=B', showlegend=True),\n",
    "           plot.plot(x=list(range(n_impressions_a)), y=n_impressions_a*[0.95], color=0, opacity=1, fill=None, linewidth=3, name='>0.95', showlegend=True),\n",
    "           ]\n",
    "layout = plot.layout(title=f'Chi2 test - p-value of A/A (CTR)', x_label='# impressions', y_label='p', theme='dark', width=1200, height=400)\n",
    "fig = go.Figure(data=p_data, layout=layout).show()\n",
    "layout['width'], layout['height'] = WIDTH_SAVE, HEIGHT_SAVE\n",
    "go.Figure(data=p_data, layout=layout).write_image(f'{IMAGE_FOLDER}/AA-test_chi2_ctr.png')\n",
    "\n",
    "# CHI2-Test - CpC\n",
    "p_data = [ plot.plot(x=df.acc_impr_a, y=df.pvalue_A1A2_cpc, color=0, opacity=0.7, name='p-value A1=A2', showlegend=True),\n",
    "           plot.plot(x=df.acc_impr_b, y=df.pvalue_B1B2_cpc, color=1, opacity=0.7, name='p-value B1=B2', showlegend=True),\n",
    "           plot.plot(x=df.acc_impr_b, y=df.pvalue_cpc, color=3, opacity=0.7, name='p-value A=B', showlegend=True),\n",
    "           plot.plot(x=list(range(n_impressions_a)), y=n_impressions_a*[0.95], color=0, opacity=1, fill=None, linewidth=3, name='>0.95', showlegend=True),\n",
    "           ]\n",
    "layout = plot.layout(title=f'Chi2 test - p-value of A/A (CpC)', x_label='# impressions', y_label='p', theme='dark', width=1200, height=400)\n",
    "fig = go.Figure(data=p_data, layout=layout).show()\n",
    "layout['width'], layout['height'] = WIDTH_SAVE, HEIGHT_SAVE\n",
    "go.Figure(data=p_data, layout=layout).write_image(f'{IMAGE_FOLDER}/AA-test_chi2_cpc.png')"
   ]
  },
  {
   "attachments": {},
   "cell_type": "markdown",
   "id": "d012f079",
   "metadata": {},
   "source": [
    "#### Bayesian A/A testing"
   ]
  },
  {
   "cell_type": "code",
   "execution_count": null,
   "id": "780fa87f",
   "metadata": {},
   "outputs": [],
   "source": [
    "# Click-Through-Rate\n",
    "x = np.linspace(0.05, 0.15, 1000)\n",
    "p_data = [plot.plot(x=x, y=beta.pdf(x, df_T.alpha_a1, df_T.beta_a1), color=0, opacity=0.7, name='A1', showlegend=True),\n",
    "          plot.plot(x=x, y=beta.pdf(x, df_T.alpha_a2, df_T.beta_a2), color=0, opacity=0.7, name='A2', showlegend=True),\n",
    "          plot.plot(x=x, y=beta.pdf(x, df_T.alpha_b1, df_T.beta_b1), color=1, opacity=0.7, name='B1', showlegend=True),\n",
    "          plot.plot(x=x, y=beta.pdf(x, df_T.alpha_b2, df_T.beta_b2), color=1, opacity=0.7, name='B2', showlegend=True)]\n",
    "layout = plot.layout(title=f'Beta distributions at T:{T}', x_label='engagement rate', y_label='p', theme='dark', width=1200, height=400)\n",
    "fig = go.Figure(data=p_data, layout=layout).show()\n",
    "layout['width'], layout['height'] = WIDTH_SAVE, HEIGHT_SAVE\n",
    "go.Figure(data=p_data, layout=layout).write_image(f'{IMAGE_FOLDER}/AA-test_betas.png')\n",
    "\n",
    "# Kolmogorov-Smirnov plot\n",
    "if config['metrics']['ks']:\n",
    "    p_data = [ plot.plot(x=df.acc_impr_a, y=df.P_A1A2_b_ks, color=0, opacity=0.5, name='P(A1=A2)', showlegend=True),\n",
    "            plot.plot(x=df.acc_impr_b, y=df.P_B1B2_b_ks, color=1, opacity=0.5, name='P(B1=B2)', showlegend=True),\n",
    "            plot.plot(x=df.acc_impr_a, y=df.P_AB_b_ks, color=3, opacity=0.9, name='P(AB)', showlegend=True)]\n",
    "    layout = plot.layout(title=f'Kolmogorov-Smirnov A/A (CTR)', x_label='# impressions', y_label='p', theme='dark', width=1200, height=400)\n",
    "    fig = go.Figure(data=p_data, layout=layout).show()\n",
    "    layout['width'], layout['height'] = WIDTH_SAVE, HEIGHT_SAVE\n",
    "    go.Figure(data=p_data, layout=layout).write_image(f'{IMAGE_FOLDER}/AA-test_CTR_ks.png')\n",
    "\n",
    "# Wasserstein plot\n",
    "if config['metrics']['ws']:\n",
    "    p_data = [ plot.plot(x=df.acc_impr_a, y=df.P_A1A2_b_ws, color=0, opacity=0.5, name='P(A1=A2)', showlegend=True),\n",
    "            plot.plot(x=df.acc_impr_b, y=df.P_B1B2_b_ws, color=1, opacity=0.5, name='P(B1=B2)', showlegend=True),\n",
    "            plot.plot(x=df.acc_impr_a, y=df.P_AB_b_ws, color=3, opacity=0.9, name='P(AB)', showlegend=True)]\n",
    "    layout = plot.layout(title=f'Wasserstein A/A (CTR)', x_label='# impressions', y_label='p', theme='dark', width=1200, height=400)\n",
    "    layout['yaxis']['range'] = [0.95, 1]\n",
    "    fig = go.Figure(data=p_data, layout=layout).show()\n",
    "    layout['width'], layout['height'] = WIDTH_SAVE, HEIGHT_SAVE\n",
    "    go.Figure(data=p_data, layout=layout).write_image(f'{IMAGE_FOLDER}/AA-test_CTR_ws.png')"
   ]
  },
  {
   "cell_type": "code",
   "execution_count": null,
   "id": "f38eba3e",
   "metadata": {},
   "outputs": [],
   "source": [
    "# Cost-per-Click\n",
    "x = np.linspace(0, 0.3, 1000)\n",
    "p_data = [plot.plot(x=x, y=gamma.pdf(x, a=df_T.a_a1, scale=df_T.scale_a1), color=0, opacity=0.7, name='A1', showlegend=True),\n",
    "          plot.plot(x=x, y=gamma.pdf(x, a=df_T.a_a2, scale=df_T.scale_a2), color=0, opacity=0.7, name='A2', showlegend=True),\n",
    "          plot.plot(x=x, y=gamma.pdf(x, a=df_T.a_b1, scale=df_T.scale_b1), color=1, opacity=0.7, name='B1', showlegend=True),\n",
    "          plot.plot(x=x, y=gamma.pdf(x, a=df_T.a_b2, scale=df_T.scale_b2), color=1, opacity=0.7, name='B2', showlegend=True)]\n",
    "layout = plot.layout(title=f'Gamma distributions at T:{T}', x_label='Cost-per-Click', y_label='p', theme='dark', width=1200, height=400)\n",
    "fig = go.Figure(data=p_data, layout=layout).show()\n",
    "layout['width'], layout['height'] = WIDTH_SAVE, HEIGHT_SAVE\n",
    "go.Figure(data=p_data, layout=layout).write_image(f'{IMAGE_FOLDER}/AA-test_CpC_gamma.png')\n",
    "\n",
    "# Kolmogorov-Smirnov plot\n",
    "if config['metrics']['ks']:\n",
    "        p_data = [ plot.plot(x=df.acc_impr_a, y=df.P_A1A2_g_ks, color=0, opacity=0.5, name='P(A1=A2)', showlegend=True),\n",
    "                plot.plot(x=df.acc_impr_b, y=df.P_B1B2_g_ks, color=1, opacity=0.5, name='P(B1=B2)', showlegend=True),\n",
    "                plot.plot(x=df.acc_impr_a, y=df.P_AB_g_ks, color=3, opacity=0.9, name='P(AB)', showlegend=True)]\n",
    "        layout = plot.layout(title=f'Kolmogorov-Smirnov A/A (CpC)', x_label='# impressions', y_label='p', theme='dark', width=1200, height=400)\n",
    "        fig = go.Figure(data=p_data, layout=layout).show()\n",
    "        layout['width'], layout['height'] = WIDTH_SAVE, HEIGHT_SAVE\n",
    "        go.Figure(data=p_data, layout=layout).write_image(f'{IMAGE_FOLDER}/AA-test_CpC_ks.png')\n",
    "\n",
    "if config['metrics']['ws']:\n",
    "    p_data = [ plot.plot(x=df.acc_impr_a, y=df.P_A1A2_g_ws, color=0, opacity=0.5, name='P(A1=A2)', showlegend=True),\n",
    "               plot.plot(x=df.acc_impr_b, y=df.P_B1B2_g_ws, color=1, opacity=0.5, name='P(B1=B2)', showlegend=True),\n",
    "               plot.plot(x=df.acc_impr_a, y=df.P_AB_g_ws, color=3, opacity=0.9, name='P(AB)', showlegend=True)]\n",
    "    layout = plot.layout(title=f'Wasserstein A/A (CpC)', x_label='# impressions', y_label='p', theme='dark', width=1200, height=400)\n",
    "    layout['yaxis']['range'] = [0.95, 1]\n",
    "    fig = go.Figure(data=p_data, layout=layout).show()\n",
    "    layout['width'], layout['height'] = WIDTH_SAVE, HEIGHT_SAVE\n",
    "    go.Figure(data=p_data, layout=layout).write_image(f'{IMAGE_FOLDER}/AA-test_CpC_ws.png')"
   ]
  },
  {
   "attachments": {},
   "cell_type": "markdown",
   "id": "9fb84a59",
   "metadata": {},
   "source": [
    "## A/B-Test - Decision Probability"
   ]
  },
  {
   "cell_type": "code",
   "execution_count": null,
   "id": "fe8cc36a",
   "metadata": {},
   "outputs": [],
   "source": [
    "print(f'DECISION METRICS - AB')\n",
    "print(f'A: Impr: {df_T.acc_impr_a.values[0]} - Clicks: {df_T.acc_clicks_a.values[0]} - Cost: {df_T.acc_cost_a.values[0]:.2f}')\n",
    "print(f'B: Impr: {df_T.acc_impr_b.values[0]} - Clicks: {df_T.acc_clicks_b.values[0]} - Cost: {df_T.acc_cost_b.values[0]:.2f}\\n')\n",
    "\n",
    "# Decision metrics\n",
    "print(f'DECISION METRICS - AB - CTR')\n",
    "print(f'chi2: {df_T.chi2_ctr.values[0]:.3f} - p-value: {100*df_T.pvalue_ctr.values[0]:.1f}%', end='')\n",
    "print(f' - ks: {df_T.P_AB_b_ks.values[0]:.3f}', end='') if config['metrics']['ks'] else None\n",
    "print(f' - ws: {df_T.P_AB_b_ws.values[0]:.3f}', end='') if config['metrics']['ws'] else None\n",
    "print('')\n",
    "print(f'CTR: P(A>B): {100*df_T.P_AB_b.values[0]:.1f}% / {100*df_T.P_BA_b.values[0]:.1f}% - loss (A/B): {df_T.loss_ctr_a.values[0]:.5f} / {df_T.loss_ctr_b.values[0]:.5f}\\n')\n",
    "\n",
    "print(f'DECISION METRICS - AB - CpC')\n",
    "# print(f'chi2: {df_T.chi2_cpc.values[0]:.3f} - p-value: {100*df_T.pvalue_cpc.values[0]:.1f}%  --  ks: {df_T.P_AB_g_ks.values[0]:.3f} - ws: {df_T.P_AB_g_ws.values[0]:.3f}')\n",
    "print(f'chi2: {df_T.chi2_cpc.values[0]:.3f} - p-value: {100*df_T.pvalue_cpc.values[0]:.1f}%', end='')\n",
    "print(f' - ks: {df_T.P_AB_g_ks.values[0]:.3f}', end='') if config['metrics']['ks'] else None\n",
    "print(f' - ws: {df_T.P_AB_g_ws.values[0]:.3f}', end='') if config['metrics']['ws'] else None\n",
    "print('')\n",
    "print(f'CpC p(A>B) {100*df_T.P_AB_g.values[0]:.1f}% / {100*df_T.P_BA_g.values[0]:.1f}% - loss (A/B): {df_T.loss_cpc_a.values[0]:.5f} / {df_T.loss_cpc_b.values[0]:.5f}')"
   ]
  },
  {
   "attachments": {},
   "cell_type": "markdown",
   "id": "e90e533e",
   "metadata": {},
   "source": [
    "#### Hypothesis testing"
   ]
  },
  {
   "cell_type": "code",
   "execution_count": null,
   "id": "df2a25bc",
   "metadata": {},
   "outputs": [],
   "source": [
    "# CHI2 - CTR\n",
    "p_data = [ plot.plot(x=df.acc_impr_b, y=df.pvalue_ctr, color=1, opacity=0.7, name='p-value', showlegend=True),\n",
    "           plot.plot(x=list(range(n_impressions_a)), y=n_impressions_a*[0.05], color=0, opacity=1, fill=None, linewidth=3, name='<0.05', showlegend=True),\n",
    "           ]\n",
    "layout = plot.layout(title=f'Chi2-test - p-value (CTR)', x_label='# impressions', y_label='p', theme='dark', width=1200, height=400)\n",
    "fig = go.Figure(data=p_data, layout=layout).show()\n",
    "layout['width'], layout['height'] = WIDTH_SAVE, HEIGHT_SAVE\n",
    "go.Figure(data=p_data, layout=layout).write_image(f'{IMAGE_FOLDER}/AB-test_chi2_pvalue_ctr.png')\n",
    "\n",
    "# CHI2 - CpC\n",
    "p_data = [ plot.plot(x=df.acc_impr_b, y=df.pvalue_cpc, color=1, opacity=0.7, name='p-value', showlegend=True),\n",
    "           plot.plot(x=list(range(n_impressions_a)), y=n_impressions_a*[0.05], color=0, opacity=1, fill=None, linewidth=3, name='<0.05', showlegend=True),\n",
    "           ]\n",
    "layout = plot.layout(title=f'Chi2-test - p-value (CpC)', x_label='# impressions', y_label='p', theme='dark', width=1200, height=400)\n",
    "fig = go.Figure(data=p_data, layout=layout).show()\n",
    "layout['width'], layout['height'] = WIDTH_SAVE, HEIGHT_SAVE\n",
    "go.Figure(data=p_data, layout=layout).write_image(f'{IMAGE_FOLDER}/AB-test_chi2_pvalue_cpc.png')"
   ]
  },
  {
   "attachments": {},
   "cell_type": "markdown",
   "id": "467e1718",
   "metadata": {},
   "source": [
    "#### Bayesian testing"
   ]
  },
  {
   "cell_type": "code",
   "execution_count": null,
   "id": "ea2b0cf5",
   "metadata": {},
   "outputs": [],
   "source": [
    "\n",
    "x = np.linspace(0.05, 0.15, 1001)\n",
    "p_data = [plot.plot(x=x, y=beta.pdf(x, df_T.alpha_a, df_T.beta_a), color=0, opacity=0.7, name='CTR A', showlegend=True),\n",
    "          plot.plot(x=x, y=beta.pdf(x, df_T.alpha_b, df_T.beta_b), color=1, opacity=0.7, name='CTR B', showlegend=True)]\n",
    "layout = plot.layout(title=f'Performance distributions at T:{T}', x_label='engagement rate', y_label='p', theme='dark', width=1200, height=400)\n",
    "fig = go.Figure(data=p_data, layout=layout).show()\n",
    "layout['width'], layout['height'] = WIDTH_SAVE, HEIGHT_SAVE\n",
    "go.Figure(data=p_data, layout=layout).write_image(f'{IMAGE_FOLDER}/AB-test_CTR_betas.png')\n",
    "\n",
    "x = np.linspace(0, 0.3, 1001)\n",
    "p_data = [plot.plot(x=x, y=gamma.pdf(x, a=df_T.a_a, scale=df_T.scale_a), color=0, opacity=0.7, name='CpC A', showlegend=True),\n",
    "          plot.plot(x=x, y=gamma.pdf(x, a=df_T.a_b, scale=df_T.scale_b), color=1, opacity=0.7, name='CpC B', showlegend=True)]\n",
    "layout = plot.layout(title=f'Performance distributions at T:{T}', x_label='engagement rate', y_label='p', theme='dark', width=1200, height=400)\n",
    "fig = go.Figure(data=p_data, layout=layout).show()\n",
    "layout['width'], layout['height'] = WIDTH_SAVE, HEIGHT_SAVE\n",
    "go.Figure(data=p_data, layout=layout).write_image(f'{IMAGE_FOLDER}/AB-test_CpC_gammas.png')\n",
    "\n",
    "\n",
    "# BAYES - CTR\n",
    "p_data = [ plot.plot(x=list(range(n_impressions_a)), y=n_impressions_a*[0.95], color=0, opacity=1, fill=None, linewidth=3, name='>0.95', showlegend=True),\n",
    "           plot.plot(x=df.acc_impr_a, y=df.P_AB_b, color=0, opacity=0.7, name='P(A>B)', showlegend=True),\n",
    "           plot.plot(x=df.acc_impr_b, y=df.P_BA_b, color=1, opacity=0.7, name='P(B>A)', showlegend=True),\n",
    "           ]\n",
    "layout = plot.layout(title=f'Probability of P(B>A), P(A>B) - CTR', x_label='# impressions', y_label='p', theme='dark', width=1200, height=400)\n",
    "fig = go.Figure(data=p_data, layout=layout).show()\n",
    "layout['width'], layout['height'] = WIDTH_SAVE, HEIGHT_SAVE\n",
    "go.Figure(data=p_data, layout=layout).write_image(f'{IMAGE_FOLDER}/AB-test_CTR_prob.png')\n",
    "\n",
    "p_data = [ plot.plot(x=df.acc_impr_a, y=df.loss_ctr_a, color=0, opacity=0.5, name='loss A', showlegend=True),\n",
    "           plot.plot(x=df.acc_impr_b, y=df.loss_ctr_b, color=1, opacity=0.8, name='loss B', showlegend=True),\n",
    "           ]\n",
    "layout = plot.layout(title=f'Loss - CTR', x_label='# impressions', y_label='loss', theme='dark', width=1200, height=400)\n",
    "layout['yaxis']['range'] = [0, 0.05]\n",
    "fig = go.Figure(data=p_data, layout=layout).show()\n",
    "layout['width'], layout['height'] = WIDTH_SAVE, HEIGHT_SAVE\n",
    "go.Figure(data=p_data, layout=layout).write_image(f'{IMAGE_FOLDER}/AB-test_CTR_loss.png')\n",
    "\n",
    "# BAYES - CpC\n",
    "p_data = [ plot.plot(x=list(range(n_impressions_a)), y=n_impressions_a*[0.95], color=0, opacity=1, fill=None, linewidth=3, name='>0.95', showlegend=True),\n",
    "           plot.plot(x=df.acc_impr_a, y=df.P_AB_g, color=0, opacity=0.7, name='P(B<A)', showlegend=True),\n",
    "           plot.plot(x=df.acc_impr_b, y=df.P_BA_g, color=1, opacity=0.7, name='P(A<B)', showlegend=True),\n",
    "           ]\n",
    "layout = plot.layout(title=f'Probability of P(A<B), P(B<A) - CpC', x_label='# impressions', y_label='p', theme='dark', width=1200, height=400)\n",
    "fig = go.Figure(data=p_data, layout=layout).show()\n",
    "layout['width'], layout['height'] = WIDTH_SAVE, HEIGHT_SAVE\n",
    "go.Figure(data=p_data, layout=layout).write_image(f'{IMAGE_FOLDER}/AB-test_CpC_prob.png')\n",
    "\n",
    "p_data = [ plot.plot(x=df.acc_impr_a, y=df.loss_cpc_a, color=0, opacity=0.5, name='loss A', showlegend=True),\n",
    "           plot.plot(x=df.acc_impr_b, y=df.loss_cpc_b, color=1, opacity=0.8, name='loss B', showlegend=True),\n",
    "           ]\n",
    "layout = plot.layout(title=f'Loss - CpC', x_label='# impressions', y_label='loss', theme='dark', width=1200, height=400)\n",
    "# layout['yaxis']['range'] = [0, 0.05]\n",
    "fig = go.Figure(data=p_data, layout=layout).show()\n",
    "layout['width'], layout['height'] = WIDTH_SAVE, HEIGHT_SAVE\n",
    "go.Figure(data=p_data, layout=layout).write_image(f'{IMAGE_FOLDER}/AB-test_CpC_loss.png')"
   ]
  },
  {
   "cell_type": "code",
   "execution_count": null,
   "id": "9078c0a4",
   "metadata": {},
   "outputs": [],
   "source": []
  },
  {
   "attachments": {},
   "cell_type": "markdown",
   "id": "e8c68448",
   "metadata": {},
   "source": [
    "### Video"
   ]
  },
  {
   "cell_type": "code",
   "execution_count": null,
   "id": "7b8ea37f",
   "metadata": {},
   "outputs": [],
   "source": [
    "# conda install -c conda-forge ffmpeg\n",
    "if DO_MAKE_VIDEOS:\n",
    "\n",
    "    N_STEPS = 500\n",
    "    x = np.linspace(0, 0.5, 50000)\n",
    "\n",
    "    def make_video(framerate=10, xlabel='', n_versions=4, colormap=['#ff4444', '#ff4444', '#ff44ff', '#ff44ff'], txt_pos=0.4):\n",
    "        FFMpegWriter = manimation.writers['ffmpeg']\n",
    "        metadata = dict(title='Movie Test', artist='Matplotlib', comment='')\n",
    "        writer = FFMpegWriter(fps=framerate, metadata=metadata)\n",
    "\n",
    "        # fig = plt.figure\n",
    "        fig = plt.figure(figsize=(12,6), dpi=100, facecolor='#202020', edgecolor='#202020')\n",
    "        plt.margins(10)\n",
    "\n",
    "        ax = plt.gca()\n",
    "        fig.patch.set_facecolor('#202020')\n",
    "        ax.set_facecolor('#202020')\n",
    "        ax.set_xlabel(xlabel)\n",
    "        ax.set_ylabel('#')\n",
    "        ax.spines['bottom'].set_color('#AAAAAA')\n",
    "        ax.spines['top'].set_color('#AAAAAA')\n",
    "        ax.spines['left'].set_color('#AAAAAA')\n",
    "        ax.spines['right'].set_color('#AAAAAA')\n",
    "        ax.xaxis.label.set_color('#AAAAAA')\n",
    "        ax.tick_params(axis='x', colors='#AAAAAA')\n",
    "\n",
    "        # colorsteps = math.floor(255/n_versions)\n",
    "        # colormap = [rgb2hex(np.array([255,colorsteps*i,colorsteps*i])/255) for i in range(n_versions)]\n",
    "        plts = [plt.plot([], [], colormap[i], linewidth=3)[0] for i in range(n_versions)]\n",
    "        plt.xlim([0, 0.25])\n",
    "        plt.ylim([0, 100])\n",
    "        txt_time = plt.figtext(0.7, txt_pos, \"\", fontsize=12, color='#AAAAAA')\n",
    "        ax.get_yaxis().set_visible(False)\n",
    "\n",
    "        return writer, fig, plt, plts, txt_time\n",
    "\n",
    "\n",
    "    # A/A-test - on campaign CTR data...\n",
    "    writer, fig, plt, plts, txt_time = make_video(xlabel='Click-Through-Rate (AA-test)', txt_pos=0.35)\n",
    "    with writer.saving(fig, f'{VIDEO_FOLDER}/AA-test_CTR.mp4', 100):\n",
    "        for t in tqdm(range(N_STEPS+1)):\n",
    "            plts[0].set_data(x, stats.beta.pdf(x, df.loc[t,'alpha_a1'], df.loc[t,'beta_a1']))\n",
    "            plts[1].set_data(x, stats.beta.pdf(x, df.loc[t,'alpha_a2'], df.loc[t,'beta_a2']))\n",
    "            plts[2].set_data(x, stats.beta.pdf(x, df.loc[t,'alpha_b1'], df.loc[t,'beta_b1']))\n",
    "            plts[3].set_data(x, stats.beta.pdf(x, df.loc[t,'alpha_b2'], df.loc[t,'beta_b2']))\n",
    "            \n",
    "            txt = ' time: {}\\n\\n A1 / A2\\n impr.: {} / {}\\n clicks: {} / {}\\n'.format(t, df.loc[t,'acc_impr_a1'], df.loc[t,'acc_impr_a2'], df.loc[t,'acc_clicks_a1'], df.loc[t,'acc_clicks_a2'])\n",
    "            txt += ' ks: {:.3f} '.format(df.loc[t,'P_A1A2_b_ks']) if config['metrics']['ks'] else ''\n",
    "            txt += ' ws: {:.3f} '.format(df.loc[t,'P_A1A2_b_ws']) if config['metrics']['ws'] else ''\n",
    "            txt += '\\n\\n'\n",
    "            txt += ' B1 / B2\\n impr.: {} / {}\\n clicks: {} / {}\\n'.format(df.loc[t,'acc_impr_b1'], df.loc[t,'acc_impr_b2'], df.loc[t,'acc_clicks_b1'], df.loc[t,'acc_clicks_b2'])\n",
    "            txt += ' ks: {:.3f} '.format(df.loc[t,'P_B1B2_b_ks']) if config['metrics']['ks'] else ''\n",
    "            txt += ' ws: {:.3f}'.format(df.loc[t,'P_B1B2_b_ws']) if config['metrics']['ws'] else ''\n",
    "            txt_time.set_text(txt)\n",
    "            writer.grab_frame(facecolor=fig.get_facecolor(), edgecolor='none')\n",
    "    plt.close()\n",
    "\n",
    "    # A/A-test - on campaign CpC data...\n",
    "    writer, fig, plt, plts, txt_time = make_video(xlabel='Cost-per-Click (AA-test)', txt_pos=0.35)\n",
    "    plt.xlim([0, 0.5])\n",
    "    plt.ylim([0, 20])\n",
    "    with writer.saving(fig, f'{VIDEO_FOLDER}/AA-test_CpC.mp4', 100):\n",
    "        for t in tqdm(range(N_STEPS+1)):\n",
    "            plts[0].set_data(x, stats.gamma.pdf(x, a=df.loc[t,'a_a1'], scale=df.loc[t,'scale_a1']))\n",
    "            plts[1].set_data(x, stats.gamma.pdf(x, a=df.loc[t,'a_a2'], scale=df.loc[t,'scale_a2']))\n",
    "            plts[2].set_data(x, stats.gamma.pdf(x, a=df.loc[t,'a_b1'], scale=df.loc[t,'scale_b1']))\n",
    "            plts[3].set_data(x, stats.gamma.pdf(x, a=df.loc[t,'a_b2'], scale=df.loc[t,'scale_b2']))\n",
    "            \n",
    "            txt = ' time: {}\\n\\n A1 / A2\\n clicks.: {} / {}\\n cost: {:.2f} / {:.2f}\\n'.format(t, df.loc[t,'acc_clicks_a1'], df.loc[t,'acc_clicks_a2'], df.loc[t,'acc_cost_a1'], df.loc[t,'acc_cost_a2'])\n",
    "            txt += ' ks: {:.3f}'.format(df.loc[t,'P_A1A2_g_ks']) if config['metrics']['ks'] else ''\n",
    "            txt += ' ws: {:.3f}'.format(df.loc[t,'P_A1A2_g_ws']) if config['metrics']['ws'] else ''\n",
    "            txt += '\\n\\n'\n",
    "            txt += ' B1 / B2\\n clicks.: {} / {}\\n cost: {:.2f} / {:.2f}\\n'.format(df.loc[t,'acc_clicks_b1'], df.loc[t,'acc_clicks_b2'], df.loc[t,'acc_cost_b1'], df.loc[t,'acc_cost_b2'])\n",
    "            txt += ' ks: {:.3f}'.format(df.loc[t,'P_B1B2_g_ks']) if config['metrics']['ks'] else ''\n",
    "            txt += ' ws: {:.3f}'.format(df.loc[t,'P_B1B2_g_ws']) if config['metrics']['ws'] else ''\n",
    "            txt_time.set_text(txt)\n",
    "            writer.grab_frame(facecolor=fig.get_facecolor(), edgecolor='none')\n",
    "    plt.close()\n",
    "\n",
    "\n",
    "    # A/B-test - on campaign CTR data...\n",
    "    writer, fig, plt, plts, txt_time = make_video(xlabel='Click-Through-Rate (AB-test)', n_versions=2, colormap=['#ff4444','#ff44ff'], txt_pos=0.4)\n",
    "    plt.ylim([0, 70])\n",
    "    with writer.saving(fig, f'{VIDEO_FOLDER}/AB-test_CTR.mp4', 100):\n",
    "        for t in tqdm(range(N_STEPS+1)):\n",
    "            plts[0].set_data(x, stats.beta.pdf(x, df.loc[t,'alpha_a'], df.loc[t,'beta_a']))\n",
    "            plts[1].set_data(x, stats.beta.pdf(x, df.loc[t,'alpha_b'], df.loc[t,'beta_b']))\n",
    "\n",
    "            txt = ' time: {}\\n\\n A / B\\n impr.: {} / {}\\n clicks: {} / {}\\n\\n'.format(t, df.loc[t,'acc_impr_a'], df.loc[t,'acc_impr_b'], df.loc[t,'acc_clicks_a'], df.loc[t,'acc_clicks_b'])\n",
    "            txt += ' p-value: {:.1f}%\\n\\n'.format(100*df.loc[t,'pvalue_ctr'])\n",
    "            txt += ' p(a>b): {:.1f}% / {:.1f}%\\n'.format(100*df.loc[t,'P_AB_b'], 100*df.loc[t,'P_BA_b'])\n",
    "            txt += ' loss: {:.3f} / {:.3f} \\n\\n'.format(df.loc[t,'loss_ctr_a'], df.loc[t,'loss_ctr_b'])\n",
    "            txt_time.set_text(txt)\n",
    "\n",
    "            # txt_time.set_text( \" time: {}\\n\\n impr.: {}\\n clicks: {}\".format(t, df.loc[t,'acc_impr_a']+df.loc[t,'acc_impr_b'], df.loc[t,'acc_clicks_a']+df.loc[t,'acc_clicks_b']))\n",
    "            writer.grab_frame(facecolor=fig.get_facecolor(), edgecolor='none')\n",
    "    plt.close()\n",
    "\n",
    "\n",
    "    # A/B-test - on campaign CpC data...\n",
    "    writer, fig, plt, plts, txt_time = make_video(xlabel='Cost-per-Click (AB-test)', n_versions=2, colormap=['#ff4444','#ff44ff'], txt_pos=0.4)\n",
    "    plt.xlim([0, 0.5])\n",
    "    plt.ylim([0, 20])\n",
    "    with writer.saving(fig, f'{VIDEO_FOLDER}/AB-test_CpC.mp4', 100):\n",
    "        for t in tqdm(range(N_STEPS+1)):\n",
    "            plts[0].set_data(x, stats.gamma.pdf(x, a=df.loc[t,'a_a'], scale=df.loc[t,'scale_a']))\n",
    "            plts[1].set_data(x, stats.gamma.pdf(x, a=df.loc[t,'a_b'], scale=df.loc[t,'scale_b']))\n",
    "            \n",
    "            txt = ' time: {}\\n\\n A / B\\n clicks: {} / {}\\n cost: {:.2f} / {:.2f}\\n\\n'.format(t, df.loc[t,'acc_clicks_a'], df.loc[t,'acc_clicks_b'], df.loc[t,'acc_cost_a'], df.loc[t,'acc_cost_b'])\n",
    "            txt += ' p-value: {:.1f}%\\n\\n'.format(100*df.loc[t,'pvalue_cpc'])\n",
    "            txt += ' p(a<b): {:.1f}% / {:.1f}%\\n'.format(100*(1-df.loc[t,'P_AB_g']), 100*(1-df.loc[t,'P_BA_g']))\n",
    "            txt += ' loss: {:.3f} / {:.3f} \\n\\n'.format(df.loc[t,'loss_cpc_a'], df.loc[t,'loss_cpc_b'])\n",
    "            txt_time.set_text(txt)\n",
    "            \n",
    "            writer.grab_frame(facecolor=fig.get_facecolor(), edgecolor='none')\n",
    "    plt.close()"
   ]
  },
  {
   "cell_type": "code",
   "execution_count": null,
   "id": "29e96fb3",
   "metadata": {},
   "outputs": [],
   "source": []
  },
  {
   "cell_type": "code",
   "execution_count": null,
   "id": "2c8a5004",
   "metadata": {},
   "outputs": [],
   "source": []
  },
  {
   "cell_type": "code",
   "execution_count": null,
   "id": "a6cfea13",
   "metadata": {},
   "outputs": [],
   "source": []
  },
  {
   "cell_type": "code",
   "execution_count": null,
   "id": "1e47f782",
   "metadata": {},
   "outputs": [],
   "source": []
  }
 ],
 "metadata": {
  "environment": {
   "name": "tf2-gpu.2-3.m78",
   "type": "gcloud",
   "uri": "gcr.io/deeplearning-platform-release/tf2-gpu.2-3:m78"
  },
  "kernelspec": {
   "display_name": ".venv",
   "language": "python",
   "name": "python3"
  },
  "language_info": {
   "codemirror_mode": {
    "name": "ipython",
    "version": 3
   },
   "file_extension": ".py",
   "mimetype": "text/x-python",
   "name": "python",
   "nbconvert_exporter": "python",
   "pygments_lexer": "ipython3",
   "version": "3.10.14"
  }
 },
 "nbformat": 4,
 "nbformat_minor": 5
}
