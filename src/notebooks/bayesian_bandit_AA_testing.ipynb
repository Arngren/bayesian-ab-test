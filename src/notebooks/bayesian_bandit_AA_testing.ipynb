{
 "cells": [
  {
   "attachments": {},
   "cell_type": "markdown",
   "id": "4befee48",
   "metadata": {},
   "source": [
    "# Bayesian Bandit A/A-Testing"
   ]
  },
  {
   "cell_type": "code",
   "execution_count": null,
   "id": "21b13953",
   "metadata": {},
   "outputs": [],
   "source": [
    "# !which python\n",
    "# !pip install nbformat\n",
    "# !pip install kaleido\n",
    "# !makedir images\n",
    "# !makedir video"
   ]
  },
  {
   "cell_type": "code",
   "execution_count": null,
   "id": "08d1486d",
   "metadata": {},
   "outputs": [],
   "source": [
    "import sys\n",
    "sys.path.append('../')\n",
    "\n",
    "from typing import Dict, List, Any, Union\n",
    "\n",
    "import os\n",
    "import numpy as np\n",
    "import pandas as pd\n",
    "import math\n",
    "\n",
    "from tqdm import tqdm\n",
    "\n",
    "from scipy import stats\n",
    "from scipy.stats import beta, gamma\n",
    "\n",
    "# import util functions\n",
    "from utils.bayesian_bandit_test import Environment, Agent, Bandit\n",
    "from utils.bayesian_test import Bayesian_AB_Test\n",
    "\n",
    "from utils.graph import visualisation # conda install -n python3 -c conda-forge colorlover\n",
    "from utils.graph import Video\n",
    "import plotly\n",
    "import plotly.graph_objects as go\n",
    "# Init visualisation tool\n",
    "plot = visualisation(renderer=\"vscode\") # vscode | iframe for browsers\n",
    "\n",
    "from IPython.core.interactiveshell import InteractiveShell\n",
    "InteractiveShell.ast_node_interactivity = \"all\"\n",
    "pd.set_option('display.max_columns', None)\n",
    "pd.set_option('display.max_rows', 5000)\n",
    "pd.set_option('display.width', 10000)\n",
    "\n",
    "tqdm.pandas()"
   ]
  },
  {
   "attachments": {},
   "cell_type": "markdown",
   "id": "3d327c30",
   "metadata": {},
   "source": [
    "# Parameters"
   ]
  },
  {
   "cell_type": "code",
   "execution_count": null,
   "id": "4b42c6ef",
   "metadata": {},
   "outputs": [],
   "source": [
    "# A/A-Test\n",
    "BANDIT_PARAMS = {'A1': {'period':0, 'ctr':0.1, 'cpm':1},\n",
    "                 'A2': {'period':0, 'ctr':0.1, 'cpm':1}, \n",
    "                 'B1': {'period':0, 'ctr':0.3, 'cpm':2},\n",
    "                 'B2': {'period':0, 'ctr':0.3, 'cpm':2}}\n",
    "\n",
    "# Plotting\n",
    "WIDTH_SAVE, HEIGHT_SAVE = 1200, 400\n",
    "\n",
    "# Images and videos\n",
    "DO_MAKE_VIDEOS = False\n",
    "\n",
    "# create image folder, if not exists\n",
    "IMAGE_FOLDER = \"../../images\"\n",
    "if not os.path.exists(IMAGE_FOLDER):\n",
    "    os.makedirs(IMAGE_FOLDER)\n",
    "\n",
    "VIDEO_FOLDER = \"../../video\"\n",
    "if not os.path.exists(VIDEO_FOLDER):\n",
    "    os.makedirs(IMAGE_FOLDER)"
   ]
  },
  {
   "cell_type": "code",
   "execution_count": null,
   "id": "a13fe2f0",
   "metadata": {},
   "outputs": [],
   "source": [
    "# config = {'optimise_for': 'ctr',\n",
    "#           'n_periods': 300,\n",
    "#           'max_impr_before_update_param': 100,\n",
    "#           'recency_param': 0.6, # decay parameter`per day`\n",
    "#           'n_periods_per_day': 24, # number of periods per day\n",
    "#           'video': f'{VIDEO_FOLDER}/bandit_aa_ctr_slow.mp4'\n",
    "#          }\n",
    "\n",
    "config = {'optimise_for': 'ctr',\n",
    "          'n_periods': 300,\n",
    "          'max_impr_before_update_param': 5000,\n",
    "          'recency_param': 0.95, # decay parameter`per day`\n",
    "          'n_periods_per_day': 1, # number of periods per day\n",
    "          'video': f'{VIDEO_FOLDER}/bandit_aa_ctr_fast.mp4'\n",
    "         }\n",
    "\n",
    "bandit = Bandit(bandit_params=BANDIT_PARAMS, n_periods=config['n_periods']+1, config=config)\n",
    "bandit.run()\n",
    "bandit.agent.df_log['A1'].tail(5)\n",
    "bandit.agent.df_log['A2'].tail(5)\n",
    "bandit.agent.df_log['B1'].tail(5)\n",
    "bandit.agent.df_log['B2'].tail(5)\n",
    "bandit.df_metrics.tail()\n",
    "\n",
    "# period = 1\n",
    "# # ENVIRONMENT - GET IMPRESSIONS\n",
    "# # random, how many impr. before updating agent\n",
    "# n_impr = bandit.environment.simulate_impr_one_period()\n",
    "\n",
    "# # AGENT - CHOOSE\n",
    "# selected_variants = bandit.agent.choose(n_impr=n_impr, period=period)\n",
    "\n",
    "# # ENVIRONMENT - RETURN CLICKS\n",
    "# response = bandit.environment.sim_clicks_cost_one_period(selected_variants)\n",
    "\n",
    "# # AGENT - UPDATE LOG\n",
    "# log = bandit.agent.update_log(period=period, selected_variants=selected_variants, env_response=response)\n",
    "\n",
    "# # METRICS\n",
    "# # Regret\n",
    "# regret = sum( [selected_variants[k] for k in selected_variants if k != bandit.optimal_variant] )\n",
    "\n",
    "# # Calc. probabilities and losses\n",
    "# # P_ab_ctr = self.bayes.p_ab( [beta(log[variant]['alpha'], log[variant]['beta']) for variant in self.agent.variants] )\n",
    "# # P_ab_cpc = self.bayes.p_ab( [gamma(log[variant]['a'], log[variant]['scale']) for variant in self.agent.variants] )\n",
    "\n",
    "# P_ab_ctr, _ = bandit.bayes.p_ab_loss( [beta(log[variant]['alpha'], log[variant]['beta']) for variant in bandit.agent.variants] )\n",
    "# P_ab_cpc, _ = bandit.bayes.p_ab_loss( [gamma(log[variant]['a'], log[variant]['scale']) for variant in bandit.agent.variants] )\n",
    "\n",
    "# import itertools\n",
    "# loss = {'ctr': {}, 'cpc': {}}\n",
    "# p_overlap = {'ctr': {'ks':{}, 'ws':{}}, 'cpc': {'ks':{}, 'ks':{}}}\n",
    "# for a, b in itertools.combinations(bandit.agent.variants, 2):    \n",
    "#     _, loss['ctr'][a, b] = bandit.bayes.p_ab_loss( [beta(log[a]['alpha'],log[a]['beta']), beta(log[b]['alpha'],log[b]['beta'])] )\n",
    "#     # loss['ctr'][a, b] = bandit.bayes.p_ab_loss( [beta(log[a]['alpha'],log[a]['beta']), beta(log[b]['alpha'],log[b]['beta'])] )\n",
    "#     _, loss['cpc'][a, b] = bandit.bayes.p_ab_loss( [gamma(log[a]['a'],log[a]['scale']), gamma(log[b]['a'],log[b]['scale'])] )\n",
    "\n",
    "\n",
    "# loss"
   ]
  },
  {
   "cell_type": "code",
   "execution_count": null,
   "id": "fdfb7fbe",
   "metadata": {},
   "outputs": [],
   "source": []
  },
  {
   "cell_type": "markdown",
   "id": "63ee3126",
   "metadata": {},
   "source": [
    "# Plotting"
   ]
  },
  {
   "cell_type": "code",
   "execution_count": null,
   "id": "6c27d68c",
   "metadata": {},
   "outputs": [],
   "source": [
    "def extract_period(df: pd.DataFrame, period: int) -> pd.DataFrame:\n",
    "    \"\"\" Extract data for given period\n",
    "    \"\"\"\n",
    "    return {variant: df[variant][df[variant].period==period] for variant in df.keys() if sum(df[variant].period==period)>0}"
   ]
  },
  {
   "cell_type": "code",
   "execution_count": null,
   "id": "b22ec623",
   "metadata": {},
   "outputs": [],
   "source": [
    "# Impressions / Clicks over time\n",
    "df = bandit.agent.df_log.copy()\n",
    "\n",
    "p_data = []\n",
    "for i, variant in enumerate(bandit.agent.variants):\n",
    "    p_data += [ plot.plot(x=df[variant].period, y=df[variant].n_impr_w_sum, color=i, opacity=0.4, name=f'impr. {variant}', showlegend=True),\n",
    "                plot.plot(x=df[variant].period, y=df[variant].n_clicks_w_sum, color=i, opacity=0.7, name=f'clicks {variant}', showlegend=True)]\n",
    "layout = plot.layout(title=f'Observations - impr. & clicks', x_label='time', y_label='#', theme='dark', width=1200, height=400)\n",
    "fig = go.Figure(data=p_data, layout=layout).show()\n",
    "# layout['width'], layout['height'] = WIDTH_SAVE, HEIGHT_SAVE\n",
    "# go.Figure(data=p_data, layout=layout).write_image(f'{IMAGE_FOLDER}/impr_clicks.png')"
   ]
  },
  {
   "cell_type": "code",
   "execution_count": null,
   "id": "f4954c38",
   "metadata": {},
   "outputs": [],
   "source": [
    "PERIOD = 137\n",
    "\n",
    "df_T = extract_period(df=bandit.agent.df_log, period=PERIOD)\n",
    "\n",
    "# Click-Through-Rate - Beta distribution\n",
    "for variant in df_T:\n",
    "    print(variant)\n",
    "    df_T[variant]\n",
    "\n",
    "x = np.linspace(0, 1, 1000)\n",
    "p_data = [plot.plot(x=x, y=beta.pdf(x, df_T[variant].alpha, df_T[variant].beta), color=i, opacity=0.7, name=variant, showlegend=True) for i, variant in enumerate(df_T)]\n",
    "layout = plot.layout(title=f'Beta distributions at T:{PERIOD}', x_label='Click-Through-Rate', y_label='p', theme='dark', width=1200, height=400)\n",
    "layout['xaxis']['range'] = [0, 0.5]\n",
    "fig = go.Figure(data=p_data, layout=layout).show()\n",
    "layout['width'], layout['height'] = WIDTH_SAVE, HEIGHT_SAVE\n",
    "go.Figure(data=p_data, layout=layout).write_image(f'{IMAGE_FOLDER}/bandit_beta_aa.png')\n",
    "\n",
    "# Cost-per-Click - gamma distribution\n",
    "x = np.linspace(0, 20, 1000)\n",
    "p_data = [plot.plot(x=x, y=gamma.pdf(x, a=df_T[variant].a, scale=df_T[variant].scale), color=i, opacity=0.7, name=variant, showlegend=True) for i, variant in enumerate(df_T)]\n",
    "layout = plot.layout(title=f'Gamma distributions at T:{PERIOD}', x_label='Cost-per-Click', y_label='p', theme='dark', width=1200, height=400)\n",
    "layout['xaxis']['range'] = [0, 20]\n",
    "fig = go.Figure(data=p_data, layout=layout).show()\n",
    "layout['width'], layout['height'] = WIDTH_SAVE, HEIGHT_SAVE\n",
    "go.Figure(data=p_data, layout=layout).write_image(f'{IMAGE_FOLDER}/bandit_gamma_aa.png')"
   ]
  },
  {
   "cell_type": "markdown",
   "id": "5f1ce3a2",
   "metadata": {},
   "source": [
    "### A/A-test - Kolmogorov-Smirnof"
   ]
  },
  {
   "cell_type": "code",
   "execution_count": null,
   "id": "7d8ad8b0",
   "metadata": {},
   "outputs": [],
   "source": [
    "df = pd.DataFrame(bandit.df_metrics.p_overlap_ctr.to_list())\n",
    "df_ks = pd.DataFrame(df.ks.to_list()) # KS-test\n",
    "df_ws = pd.DataFrame(df.ws.to_list()) # WS-test\n",
    "df = df_ks\n",
    "# df_ks.head(10)\n",
    "# df.columns\n",
    "\n",
    "# A/A-test - KS\n",
    "p_data = [\n",
    "          plot.plot(x=list(range(len(df))), y=df[('A1','A2')], color=0, opacity=0.5, name='A1 - A2', showlegend=True),\n",
    "          plot.plot(x=list(range(len(df))), y=df[('B1','B2')], color=1, opacity=0.7, name='B1 - B2', showlegend=True),\n",
    "        #   plot.plot(x=list(range(len(df))), y=df[('A1','B1')], color=1, opacity=0.5, name='A1 - B1', showlegend=True),\n",
    "        #   plot.plot(x=list(range(len(df))), y=df[('A2','B2')], color=1, opacity=0.5, name='A2 - B2', showlegend=True),        \n",
    "          ]\n",
    "layout = plot.layout(title=f'KS - AA-test', x_label='Cost-per-Click', y_label='p', theme='dark', width=1200, height=400)\n",
    "fig = go.Figure(data=p_data, layout=layout).show()\n",
    "layout['width'], layout['height'] = WIDTH_SAVE, HEIGHT_SAVE\n",
    "go.Figure(data=p_data, layout=layout).write_image(f'{IMAGE_FOLDER}/bandit_aa_ctr_ks.png')"
   ]
  },
  {
   "cell_type": "code",
   "execution_count": null,
   "id": "9b0619ff",
   "metadata": {},
   "outputs": [],
   "source": []
  },
  {
   "cell_type": "code",
   "execution_count": null,
   "id": "aeee60e2",
   "metadata": {},
   "outputs": [],
   "source": [
    "# Regret over time\n",
    "p_data = [ plot.plot(x=bandit.df_metrics.period, y=bandit.df_metrics.regret, color=0, opacity=0.9, name=f'regret', showlegend=True)]\n",
    "layout = plot.layout(title=f'Regret', x_label='periods', y_label='#', theme='dark', width=1200, height=400)\n",
    "fig = go.Figure(data=p_data, layout=layout).show()\n",
    "\n",
    "# Regret - CDF\n",
    "hist, bins = np.histogram(bandit.df_metrics.regret, bins=100)\n",
    "p_data = [ plot.plot(x=bins, y=hist, color=0, opacity=0.6, name=f'regret', showlegend=True)]\n",
    "layout = plot.layout(title=f'Regret - Distribution', x_label='periods', y_label='#', theme='dark', width=1200, height=400)\n",
    "fig = go.Figure(data=p_data, layout=layout).show()\n",
    "p_data = [ plot.plot(x=bins, y=np.cumsum(hist)/sum(hist), color=0, opacity=0.6, name=f'regret', showlegend=True)]\n",
    "layout = plot.layout(title=f'Regret - CDF', x_label='periods', y_label='#', theme='dark', width=1200, height=400)\n",
    "fig = go.Figure(data=p_data, layout=layout).show()"
   ]
  },
  {
   "cell_type": "markdown",
   "id": "023d9bac",
   "metadata": {},
   "source": [
    "#### CTR"
   ]
  },
  {
   "cell_type": "code",
   "execution_count": null,
   "id": "1e5d2bf8",
   "metadata": {},
   "outputs": [],
   "source": [
    "# P(A>B)\n",
    "# map to dataframe, where each row is a period and each column is a variant\n",
    "df_p_ab = pd.DataFrame(bandit.df_metrics.P_ab_ctr.to_list(), columns=bandit.agent.variants)\n",
    "\n",
    "p_data = [ plot.plot(x=bandit.df_metrics.period, y=df_p_ab[variant], color=i, opacity=0.7, name=f'P - {variant}', showlegend=True) for i, variant in enumerate(df_p_ab.columns)]\n",
    "layout = plot.layout(title=f'p_ab', x_label='periods', y_label='#', theme='dark', width=1200, height=400)\n",
    "fig = go.Figure(data=p_data, layout=layout).show()\n",
    "\n",
    "# Loss\n",
    "# map loss_ctr, where each row is a period and each column is a variant\n",
    "df_loss = pd.DataFrame(bandit.df_metrics.loss_ctr.to_list())\n",
    "\n",
    "for i, variant in enumerate(df_loss.columns):\n",
    "    tmp1 = df_loss[variant].apply(lambda x: x[0])\n",
    "    tmp2 = df_loss[variant].apply(lambda x: x[1])\n",
    "    p_data = [ plot.plot(x=bandit.df_metrics.period, y=tmp1, color=0, opacity=0.7, name=f'P - {variant} - A', showlegend=True),\n",
    "               plot.plot(x=bandit.df_metrics.period, y=tmp2, color=1, opacity=0.7, name=f'P - {variant} - B', showlegend=True) ]\n",
    "    layout = plot.layout(title=f'loss', x_label='periods', y_label='#', theme='dark', width=1200, height=400)\n",
    "    fig = go.Figure(data=p_data, layout=layout).show()"
   ]
  },
  {
   "cell_type": "markdown",
   "id": "bb3de51d",
   "metadata": {},
   "source": [
    "#### CpC"
   ]
  },
  {
   "cell_type": "code",
   "execution_count": null,
   "id": "8be9b759",
   "metadata": {},
   "outputs": [],
   "source": [
    "# P(A>B)\n",
    "# map to dataframe, where each row is a period and each column is a variant\n",
    "df_p_ab = pd.DataFrame(bandit.df_metrics.P_ab_cpc.to_list(), columns=bandit.agent.variants)\n",
    "\n",
    "p_data = [ plot.plot(x=bandit.df_metrics.period, y=df_p_ab[variant], color=i, opacity=0.7, name=f'P - {variant}', showlegend=True) for i, variant in enumerate(bandit.agent.variants)]\n",
    "layout = plot.layout(title=f'p_ab', x_label='periods', y_label='#', theme='dark', width=1200, height=400)\n",
    "fig = go.Figure(data=p_data, layout=layout).show()\n",
    "\n",
    "# Loss\n",
    "# map loss_ctr, where each row is a period and each column is a variant\n",
    "df_loss = pd.DataFrame(bandit.df_metrics.loss_cpc.to_list())\n",
    "df_loss.head(10)\n",
    "\n",
    "for i, variant in enumerate(df_loss.columns):\n",
    "    tmp1 = df_loss[variant].map(lambda x: x[0])\n",
    "    tmp2 = df_loss[variant].map(lambda x: x[1])\n",
    "    p_data = [ plot.plot(x=bandit.df_metrics.period, y=tmp1, color=0, opacity=0.7, name=f'P - {variant} - A', showlegend=True),\n",
    "               plot.plot(x=bandit.df_metrics.period, y=tmp2, color=1, opacity=0.7, name=f'P - {variant} - B', showlegend=True) ]\n",
    "    layout = plot.layout(title=f'loss', x_label='periods', y_label='#', theme='dark', width=1200, height=400)\n",
    "    fig = go.Figure(data=p_data, layout=layout).show()"
   ]
  },
  {
   "cell_type": "code",
   "execution_count": null,
   "id": "ffbcd6f4",
   "metadata": {},
   "outputs": [],
   "source": []
  },
  {
   "cell_type": "markdown",
   "id": "c1b05791",
   "metadata": {},
   "source": [
    "<hr>"
   ]
  },
  {
   "attachments": {},
   "cell_type": "markdown",
   "id": "e8c68448",
   "metadata": {},
   "source": [
    "### Video"
   ]
  },
  {
   "cell_type": "code",
   "execution_count": null,
   "id": "7b8ea37f",
   "metadata": {},
   "outputs": [],
   "source": [
    "# Bandit - AA-etst - CTR\n",
    "if DO_MAKE_VIDEOS:\n",
    "    N_STEPS = bandit.df_metrics.shape[0]-1\n",
    "\n",
    "    colormap = ['#ff0000', '#ff0000', '#ff00ff', '#ff00ff']\n",
    "    video = Video(xlabel='CTR', x_lim=0.5, y_lim=200, n_versions=4, colormap=colormap, txt_pos=0.5)\n",
    "    with video.writer.saving(video.fig, config['video'], 200):\n",
    "        x = np.linspace(0, 1, 50000)\n",
    "        for period in tqdm(range(N_STEPS+1)):\n",
    "            df_T = extract_period(df=bandit.agent.df_log, period=period)\n",
    "            txt = 'Period: {}\\n\\nClicks  |  Impressions\\n'.format(period)\n",
    "            for i, variant in enumerate(df_T):\n",
    "                video.plts[i].set_data(x, beta.pdf(x, df_T[variant].alpha.values[0], df_T[variant].beta.values[0]))\n",
    "            \n",
    "                txt += '{}: {: >8.1f}  |  {: >8.1f}\\n'.format(variant,\n",
    "                                                        df_T[variant].n_clicks_w_sum.values[0],\n",
    "                                                        df_T[variant].n_impr_w_sum.values[0],\n",
    "                                                        )\n",
    "\n",
    "            txt += '\\nks - AA: {: >8.1f}\\n'.format(100*bandit.df_metrics.p_overlap_ctr[period]['ks'][('A1','A2')])\n",
    "            txt += 'ks - BB: {: >8.1f} '.format(100*bandit.df_metrics.p_overlap_ctr[period]['ks'][('B1','B2')])\n",
    "\n",
    "            video.txt_time.set_text(txt)\n",
    "            video.writer.grab_frame(facecolor=video.fig.get_facecolor(), edgecolor='none')\n",
    "    print('Completed movie: {}'.format(config['video']))"
   ]
  },
  {
   "cell_type": "code",
   "execution_count": null,
   "id": "1e47f782",
   "metadata": {},
   "outputs": [],
   "source": [
    "\n"
   ]
  },
  {
   "cell_type": "code",
   "execution_count": null,
   "id": "c4f22e5b",
   "metadata": {},
   "outputs": [],
   "source": []
  }
 ],
 "metadata": {
  "environment": {
   "name": "tf2-gpu.2-3.m78",
   "type": "gcloud",
   "uri": "gcr.io/deeplearning-platform-release/tf2-gpu.2-3:m78"
  },
  "kernelspec": {
   "display_name": "wopr",
   "language": "python",
   "name": "python3"
  },
  "language_info": {
   "codemirror_mode": {
    "name": "ipython",
    "version": 3
   },
   "file_extension": ".py",
   "mimetype": "text/x-python",
   "name": "python",
   "nbconvert_exporter": "python",
   "pygments_lexer": "ipython3",
   "version": "3.10.14"
  }
 },
 "nbformat": 4,
 "nbformat_minor": 5
}
